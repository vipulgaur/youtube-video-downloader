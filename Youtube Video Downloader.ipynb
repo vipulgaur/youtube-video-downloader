{
 "cells": [
  {
   "cell_type": "code",
   "execution_count": 1,
   "metadata": {},
   "outputs": [
    {
     "name": "stdout",
     "output_type": "stream",
     "text": [
      "\n",
      "-----------------------------\n",
      "YOUTUBE VIDEO DOWNLOADER\n",
      "-----------------------------\n",
      "\n",
      "Enter youtube URL here :>>https://www.youtube.com/watch?v=qpgTC9MDx1o\n",
      "Enter Download Location: >>C:\\Users\\vipul\\Videos\\Captures\n",
      "\n",
      "-------------------\n",
      "Hold On...Processing Video\n",
      "-------------------\n",
      "\n",
      "\n",
      "-------------------\n",
      "Filename:  Maroon 5 - Animals.mp4  \n",
      "-------------------\n",
      "\n",
      "\n",
      "-------------------\n",
      "Downloading..!! Be Patient..!!\n",
      "-------------------\n",
      "\n",
      "\n",
      "-------------------\n",
      "Oolala..! Video Downloaded @ C:\\Users\\vipul\\Videos\\Captures \n",
      "-------------------\n",
      "\n"
     ]
    }
   ],
   "source": [
    "# coding: utf-8\n",
    "\n",
    "# In[44]:\n",
    "\n",
    "\n",
    "import pytube\n",
    "\n",
    "print(\"\\n-----------------------------\\nYOUTUBE VIDEO DOWNLOADER\\n-----------------------------\\n\")\n",
    "\n",
    "link=input(\"Enter youtube URL here :>>\")\n",
    "location=input(\"Enter Download Location: >>\")\n",
    "location=location.replace(\"\\\\\",\"\\\\\")\n",
    "print(\"\\n-------------------\\nHold On...Processing Video\\n-------------------\\n\")\n",
    "file=pytube.YouTube(link)\n",
    "video=file.streams.first()\n",
    "filename=video.default_filename\n",
    "print(\"\\n-------------------\\nFilename: \",filename ,\" \\n-------------------\\n\")\n",
    "print(\"\\n-------------------\\nDownloading..!! Be Patient..!!\\n-------------------\\n\")\n",
    "video.download(output_path=location, filename=filename)\n",
    "print(\"\\n-------------------\\nOolala..! Video Downloaded @\", location,\"\\n-------------------\\n\")\n",
    "\n"
   ]
  },
  {
   "cell_type": "code",
   "execution_count": null,
   "metadata": {},
   "outputs": [],
   "source": []
  }
 ],
 "metadata": {
  "kernelspec": {
   "display_name": "Python 3",
   "language": "python",
   "name": "python3"
  },
  "language_info": {
   "codemirror_mode": {
    "name": "ipython",
    "version": 3
   },
   "file_extension": ".py",
   "mimetype": "text/x-python",
   "name": "python",
   "nbconvert_exporter": "python",
   "pygments_lexer": "ipython3",
   "version": "3.6.8"
  }
 },
 "nbformat": 4,
 "nbformat_minor": 2
}
